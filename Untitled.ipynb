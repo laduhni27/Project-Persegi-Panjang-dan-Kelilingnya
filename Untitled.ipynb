{
 "cells": [
  {
   "cell_type": "code",
   "execution_count": 1,
   "id": "4cc40064",
   "metadata": {},
   "outputs": [
    {
     "name": "stdout",
     "output_type": "stream",
     "text": [
      "MENGHITUNG LUAS & KELILING PERSEGI PANJANG\n",
      "\n",
      "Masukan Panjang: 12\n",
      "Masukan Lebar: 6\n",
      "\n",
      "Luas Persegi Panjang \t\t: 72.0\n",
      "Keliling Persegi Panjang\t: 36.0\n"
     ]
    }
   ],
   "source": [
    "print(\"MENGHITUNG LUAS & KELILING PERSEGI PANJANG\")\n",
    "\n",
    "panjang = float(input(\"\\nMasukan Panjang: \"))\n",
    "lebar = float(input(\"Masukan Lebar: \"))\n",
    "\n",
    "luas = panjang*lebar\n",
    "keliling = 2 * (panjang+lebar)\n",
    "\n",
    "print(\"\\nLuas Persegi Panjang \\t\\t:\",luas)\n",
    "print(\"Keliling Persegi Panjang\\t:\",keliling)"
   ]
  },
  {
   "cell_type": "code",
   "execution_count": null,
   "id": "289e747b",
   "metadata": {},
   "outputs": [],
   "source": []
  }
 ],
 "metadata": {
  "kernelspec": {
   "display_name": "Python 3 (ipykernel)",
   "language": "python",
   "name": "python3"
  },
  "language_info": {
   "codemirror_mode": {
    "name": "ipython",
    "version": 3
   },
   "file_extension": ".py",
   "mimetype": "text/x-python",
   "name": "python",
   "nbconvert_exporter": "python",
   "pygments_lexer": "ipython3",
   "version": "3.9.7"
  }
 },
 "nbformat": 4,
 "nbformat_minor": 5
}
